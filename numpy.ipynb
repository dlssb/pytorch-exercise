{
  "nbformat": 4,
  "nbformat_minor": 0,
  "metadata": {
    "colab": {
      "provenance": [],
      "collapsed_sections": []
    },
    "kernelspec": {
      "name": "python3",
      "display_name": "Python 3"
    },
    "language_info": {
      "name": "python"
    }
  },
  "cells": [
    {
      "cell_type": "markdown",
      "source": [
        "[![Open in Colab](https://colab.research.google.com/assets/colab-badge.svg)](https://colab.research.google.com/github/dlssb/pytorch-exercise/blob/main/numpy.ipynb)"
      ],
      "metadata": {
        "id": "kUtmDQmxNFwV"
      }
    },
    {
      "cell_type": "code",
      "execution_count": null,
      "metadata": {
        "id": "ZjiIOsrswEkL"
      },
      "outputs": [],
      "source": [
        "import numpy as np"
      ]
    },
    {
      "cell_type": "markdown",
      "source": [
        "### Scalars, Vectors, Matrices, Tensors"
      ],
      "metadata": {
        "id": "PpQ0htduywME"
      }
    },
    {
      "cell_type": "code",
      "source": [
        "a = np.array(1.)  # scalar\n",
        "b = np.array([1., 2., 3.])  # vector\n",
        "c = np.array([[1., 2., 3.],[4., 5., 6.]])  # matrix\n",
        "d = np.array([[[1., 2., 3.], [4., 5., 6.]], [[7., 8., 9.], [10., 11., 12.]]])  # tensor\n",
        "e = np.array([[[[1., 2., 3.], [1., 2., 3.]], [[4., 5., 6.], [4., 5., 6.]]],\n",
        "              [[[7., 8., 9.], [7., 8., 9.]], [[10., 11., 12.], [10., 11., 12.]]]])  # tensor"
      ],
      "metadata": {
        "id": "LDglbi7OwMrG"
      },
      "execution_count": null,
      "outputs": []
    },
    {
      "cell_type": "code",
      "source": [
        "print('a:\\n', a, sep='')\n",
        "print('\\nb:\\n', b, sep='')\n",
        "print('\\nc:\\n', c, sep='')\n",
        "print('\\nd:\\n', d, sep='')\n",
        "print('\\ne:\\n', e, sep='')"
      ],
      "metadata": {
        "colab": {
          "base_uri": "https://localhost:8080/"
        },
        "id": "SVc6GOQ70HHy",
        "outputId": "4ad3ad5b-c9fc-4d2e-c030-1647985dc7a5"
      },
      "execution_count": null,
      "outputs": [
        {
          "output_type": "stream",
          "name": "stdout",
          "text": [
            "a:\n",
            "1.0\n",
            "\n",
            "b:\n",
            "[1. 2. 3.]\n",
            "\n",
            "c:\n",
            "[[1. 2. 3.]\n",
            " [4. 5. 6.]]\n",
            "\n",
            "d:\n",
            "[[[ 1.  2.  3.]\n",
            "  [ 4.  5.  6.]]\n",
            "\n",
            " [[ 7.  8.  9.]\n",
            "  [10. 11. 12.]]]\n",
            "\n",
            "e:\n",
            "[[[[ 1.  2.  3.]\n",
            "   [ 1.  2.  3.]]\n",
            "\n",
            "  [[ 4.  5.  6.]\n",
            "   [ 4.  5.  6.]]]\n",
            "\n",
            "\n",
            " [[[ 7.  8.  9.]\n",
            "   [ 7.  8.  9.]]\n",
            "\n",
            "  [[10. 11. 12.]\n",
            "   [10. 11. 12.]]]]\n"
          ]
        }
      ]
    },
    {
      "cell_type": "code",
      "source": [
        "print('a.ndim:\\n', a.ndim, sep='')\n",
        "print('\\nb.ndim:\\n', b.ndim, sep='')\n",
        "print('\\nc.ndim:\\n', c.ndim, sep='')\n",
        "print('\\nd.ndim:\\n', d.ndim, sep='')\n",
        "print('\\ne.ndim:\\n', e.ndim, sep='')"
      ],
      "metadata": {
        "colab": {
          "base_uri": "https://localhost:8080/"
        },
        "id": "Stf-1xga3a4g",
        "outputId": "aae4e3b5-1a19-4fac-f3bf-ace79fadd0b2"
      },
      "execution_count": null,
      "outputs": [
        {
          "output_type": "stream",
          "name": "stdout",
          "text": [
            "a.ndim:\n",
            "0\n",
            "\n",
            "b.ndim:\n",
            "1\n",
            "\n",
            "c.ndim:\n",
            "2\n",
            "\n",
            "d.ndim:\n",
            "3\n",
            "\n",
            "e.ndim:\n",
            "4\n"
          ]
        }
      ]
    },
    {
      "cell_type": "code",
      "source": [
        "print('a.shape:\\n', a.shape, sep='')\n",
        "print('\\nb.shape:\\n', b.shape, sep='')\n",
        "print('\\nc.shape:\\n', c.shape, sep='')\n",
        "print('\\nd.shape:\\n', d.shape, sep='')\n",
        "print('\\ne.shape:\\n', e.shape, sep='')\n",
        "\n",
        "# print(a.size()) -> error"
      ],
      "metadata": {
        "colab": {
          "base_uri": "https://localhost:8080/"
        },
        "id": "R886_Ut-3rtw",
        "outputId": "62c7adc8-679c-42ad-d826-14b012555f73"
      },
      "execution_count": null,
      "outputs": [
        {
          "output_type": "stream",
          "name": "stdout",
          "text": [
            "a.shape:\n",
            "()\n",
            "\n",
            "b.shape:\n",
            "(3,)\n",
            "\n",
            "c.shape:\n",
            "(2, 3)\n",
            "\n",
            "d.shape:\n",
            "(2, 2, 3)\n",
            "\n",
            "e.shape:\n",
            "(2, 2, 2, 3)\n"
          ]
        }
      ]
    },
    {
      "cell_type": "code",
      "source": [
        "### Quiz: What is the shape of [[[1], [2], [3]], [[4], [5], [6]]]?\n",
        "### Ans: (2, 3, 1)\n",
        "q = np.array([[[1], [2], [3]], [[4], [5], [6]]])\n",
        "print('q.shape:\\n', q.shape, sep='')"
      ],
      "metadata": {
        "colab": {
          "base_uri": "https://localhost:8080/"
        },
        "id": "4uy2m4fY5yHg",
        "outputId": "4cc87266-5433-40c3-8aec-37170aab234e"
      },
      "execution_count": null,
      "outputs": [
        {
          "output_type": "stream",
          "name": "stdout",
          "text": [
            "q.shape:\n",
            "(2, 3, 1)\n"
          ]
        }
      ]
    },
    {
      "cell_type": "markdown",
      "source": [
        "### Defining numpy arrays"
      ],
      "metadata": {
        "id": "qjbnyXd46UdC"
      }
    },
    {
      "cell_type": "code",
      "source": [
        "a = np.ones(10)\n",
        "print(a)"
      ],
      "metadata": {
        "colab": {
          "base_uri": "https://localhost:8080/"
        },
        "id": "lTapYBlW6bCz",
        "outputId": "eb497576-cae4-4f96-fd34-a454cd09cedb"
      },
      "execution_count": null,
      "outputs": [
        {
          "output_type": "stream",
          "name": "stdout",
          "text": [
            "[1. 1. 1. 1. 1. 1. 1. 1. 1. 1.]\n"
          ]
        }
      ]
    },
    {
      "cell_type": "code",
      "source": [
        "a = np.zeros((2, 4))\n",
        "print(a)"
      ],
      "metadata": {
        "colab": {
          "base_uri": "https://localhost:8080/"
        },
        "id": "ILV8jw_77K1G",
        "outputId": "632c072a-2737-442d-c552-3ab9f9d69ae5"
      },
      "execution_count": null,
      "outputs": [
        {
          "output_type": "stream",
          "name": "stdout",
          "text": [
            "[[0. 0. 0. 0.]\n",
            " [0. 0. 0. 0.]]\n"
          ]
        }
      ]
    },
    {
      "cell_type": "code",
      "source": [
        "a = np.full((2,5), 5)\n",
        "print(a)"
      ],
      "metadata": {
        "colab": {
          "base_uri": "https://localhost:8080/"
        },
        "id": "gMI6lxhG7UN1",
        "outputId": "b238dfd8-1fc7-4ccc-e7c4-f9a5d564bb54"
      },
      "execution_count": null,
      "outputs": [
        {
          "output_type": "stream",
          "name": "stdout",
          "text": [
            "[[5 5 5 5 5]\n",
            " [5 5 5 5 5]]\n"
          ]
        }
      ]
    },
    {
      "cell_type": "code",
      "source": [
        "a = np.random.random((2, 3, 4))\n",
        "print(a)"
      ],
      "metadata": {
        "colab": {
          "base_uri": "https://localhost:8080/"
        },
        "id": "xL43X_Nk7eQx",
        "outputId": "4ad2b1e7-4ad0-4594-ca48-e3a113f7e81c"
      },
      "execution_count": null,
      "outputs": [
        {
          "output_type": "stream",
          "name": "stdout",
          "text": [
            "[[[0.59332948 0.19752868 0.41709429 0.04720721]\n",
            "  [0.77718583 0.01957468 0.38142667 0.90818823]\n",
            "  [0.89601647 0.45738142 0.21589344 0.87350824]]\n",
            "\n",
            " [[0.28468106 0.28706668 0.85102684 0.63956809]\n",
            "  [0.84408084 0.61097707 0.17632782 0.35299188]\n",
            "  [0.46552039 0.3057879  0.4924139  0.32726743]]]\n"
          ]
        }
      ]
    },
    {
      "cell_type": "code",
      "source": [
        "a = np.arange(10)\n",
        "print(a)"
      ],
      "metadata": {
        "colab": {
          "base_uri": "https://localhost:8080/"
        },
        "id": "ErhXZRp47pYC",
        "outputId": "df0b6a7c-e442-4995-e524-6c0cc7a647d1"
      },
      "execution_count": null,
      "outputs": [
        {
          "output_type": "stream",
          "name": "stdout",
          "text": [
            "[0 1 2 3 4 5 6 7 8 9]\n"
          ]
        }
      ]
    },
    {
      "cell_type": "code",
      "source": [
        "a = np.arange(10).astype('float')\n",
        "print(a)"
      ],
      "metadata": {
        "colab": {
          "base_uri": "https://localhost:8080/"
        },
        "id": "3TseFyeg7u1g",
        "outputId": "370ec89d-0310-47ad-c3c8-f070604c4a14"
      },
      "execution_count": null,
      "outputs": [
        {
          "output_type": "stream",
          "name": "stdout",
          "text": [
            "[0. 1. 2. 3. 4. 5. 6. 7. 8. 9.]\n"
          ]
        }
      ]
    },
    {
      "cell_type": "code",
      "source": [
        "a = np.arange(10).reshape((2,5))\n",
        "print(a)"
      ],
      "metadata": {
        "colab": {
          "base_uri": "https://localhost:8080/"
        },
        "id": "CgYi5zv785ML",
        "outputId": "05c470fb-38cd-4688-c2e6-9a30f04c1acc"
      },
      "execution_count": null,
      "outputs": [
        {
          "output_type": "stream",
          "name": "stdout",
          "text": [
            "[[0 1 2 3 4]\n",
            " [5 6 7 8 9]]\n"
          ]
        }
      ]
    },
    {
      "cell_type": "code",
      "source": [
        "### Quiz: Create a 4-by-3-by-2 tensor filled with 0.0 to 23.0\n",
        "q = np.arange(24).astype('float').reshape((4, 3, 2))\n",
        "print('q.shape:\\n', q.shape, sep='')\n",
        "print('\\n', end='')\n",
        "print('q:\\n', q, sep='')"
      ],
      "metadata": {
        "colab": {
          "base_uri": "https://localhost:8080/"
        },
        "id": "TcH6aRYQ9Ia-",
        "outputId": "a9cc5d08-8c69-42b3-cb3c-6acdd71ab0b5"
      },
      "execution_count": null,
      "outputs": [
        {
          "output_type": "stream",
          "name": "stdout",
          "text": [
            "q.shape:\n",
            "(4, 3, 2)\n",
            "\n",
            "q:\n",
            "[[[ 0.  1.]\n",
            "  [ 2.  3.]\n",
            "  [ 4.  5.]]\n",
            "\n",
            " [[ 6.  7.]\n",
            "  [ 8.  9.]\n",
            "  [10. 11.]]\n",
            "\n",
            " [[12. 13.]\n",
            "  [14. 15.]\n",
            "  [16. 17.]]\n",
            "\n",
            " [[18. 19.]\n",
            "  [20. 21.]\n",
            "  [22. 23.]]]\n"
          ]
        }
      ]
    },
    {
      "cell_type": "markdown",
      "source": [
        "### Indexing & Slicing"
      ],
      "metadata": {
        "id": "bRreE9YU9-EV"
      }
    },
    {
      "cell_type": "code",
      "source": [
        "a = np.arange(10)\n",
        "print(\"a:\\n\", a, sep='')\n",
        "\n",
        "print(\"\\na[0]:\\n\", a[0], sep='')\n",
        "print(\"\\na[-1]:\\n\", a[-1], sep='')\n",
        "print(\"\\na[-3]:\\n\", a[-3], sep='')\n",
        "\n",
        "print(\"\\na[0:10]:\\n\", a[0:10], sep='')\n",
        "print(\"\\na[0:]:\\n\", a[0:], sep='')\n",
        "print(\"\\na[:10]:\\n\", a[:10], sep='')\n",
        "print(\"\\na[:]:\\n\", a[:], sep='')\n",
        "print(\"\\na[-4:]:\\n\", a[-4:], sep='')\n",
        "print(\"\\na[-8:]:\\n\", a[-8:], sep='')\n",
        "print(\"\\na[0:10:2]:\\n\", a[0:10:2], sep='')\n",
        "print(\"\\na[2:6:3]:\\n\", a[2:6:3], sep='')\n",
        "print(\"\\na[::-1]:\\n\", a[::-1], sep='')\n",
        "print(\"\\na[8:5:-1]:\\n\", a[8:5:-1], sep='')\n",
        "print(\"\\na[8:5]:\\n\", a[8:5], sep='')"
      ],
      "metadata": {
        "colab": {
          "base_uri": "https://localhost:8080/"
        },
        "id": "z-JtaTDK-D9S",
        "outputId": "85981ebd-bbfe-4de3-e0da-376365e4a65e"
      },
      "execution_count": null,
      "outputs": [
        {
          "output_type": "stream",
          "name": "stdout",
          "text": [
            "a:\n",
            "[0 1 2 3 4 5 6 7 8 9]\n",
            "\n",
            "a[0]:\n",
            "0\n",
            "\n",
            "a[-1]:\n",
            "9\n",
            "\n",
            "a[-3]:\n",
            "7\n",
            "\n",
            "a[0:10]:\n",
            "[0 1 2 3 4 5 6 7 8 9]\n",
            "\n",
            "a[0:]:\n",
            "[0 1 2 3 4 5 6 7 8 9]\n",
            "\n",
            "a[:10]:\n",
            "[0 1 2 3 4 5 6 7 8 9]\n",
            "\n",
            "a[:]:\n",
            "[0 1 2 3 4 5 6 7 8 9]\n",
            "\n",
            "a[-4:]:\n",
            "[6 7 8 9]\n",
            "\n",
            "a[-8:]:\n",
            "[2 3 4 5 6 7 8 9]\n",
            "\n",
            "a[0:10:2]:\n",
            "[0 2 4 6 8]\n",
            "\n",
            "a[2:6:3]:\n",
            "[2 5]\n",
            "\n",
            "a[::-1]:\n",
            "[9 8 7 6 5 4 3 2 1 0]\n",
            "\n",
            "a[8:5:-1]:\n",
            "[8 7 6]\n",
            "\n",
            "a[8:5]:\n",
            "[]\n"
          ]
        }
      ]
    },
    {
      "cell_type": "code",
      "source": [
        "### Quiz: Create [9, 6, 3] using a.\n",
        "print(a[:0:-3])"
      ],
      "metadata": {
        "colab": {
          "base_uri": "https://localhost:8080/"
        },
        "id": "8Pg0lbvaDHQn",
        "outputId": "e040e756-50ef-4f47-967d-37f9f20da480"
      },
      "execution_count": null,
      "outputs": [
        {
          "output_type": "stream",
          "name": "stdout",
          "text": [
            "[9 6 3]\n"
          ]
        }
      ]
    },
    {
      "cell_type": "code",
      "source": [
        "a = np.arange(9).reshape((3, 3))\n",
        "\n",
        "print(\"a:\\n\", a, sep='')\n",
        "\n",
        "print(\"\\na[0][0]:\\n\", a[0][0], sep='')\n",
        "print(\"\\na[0, 0]:\\n\", a[0, 0], sep='')\n",
        "print(\"\\na[1, 1]:\\n\", a[1, 1], sep='')"
      ],
      "metadata": {
        "colab": {
          "base_uri": "https://localhost:8080/"
        },
        "id": "suqxFyXWDXXT",
        "outputId": "81c08314-29cf-463d-cdc3-d3ba0110b593"
      },
      "execution_count": null,
      "outputs": [
        {
          "output_type": "stream",
          "name": "stdout",
          "text": [
            "a:\n",
            "[[0 1 2]\n",
            " [3 4 5]\n",
            " [6 7 8]]\n",
            "\n",
            "a[0][0]:\n",
            "0\n",
            "\n",
            "a[0, 0]:\n",
            "0\n",
            "\n",
            "a[1, 1]:\n",
            "4\n"
          ]
        }
      ]
    },
    {
      "cell_type": "code",
      "source": [
        "### Quiz: How to access the last row?\n",
        "print('a[-1]\\n', a[-1], sep='')\n",
        "\n",
        "### Quiz: How to access the second column?\n",
        "print('\\na[:,1]:\\n', a[:, 1], sep='')\n",
        "\n",
        "### Quiz: How to create [8, 5] using a?\n",
        "print('\\na[1:, -1][::-1]:\\n', a[1:,-1][::-1], sep='')"
      ],
      "metadata": {
        "colab": {
          "base_uri": "https://localhost:8080/"
        },
        "id": "N0Qr11iuEAjB",
        "outputId": "92f4756a-f026-4f79-e602-a3c2ff4ec6bb"
      },
      "execution_count": null,
      "outputs": [
        {
          "output_type": "stream",
          "name": "stdout",
          "text": [
            "a[-1]\n",
            "[6 7 8]\n",
            "\n",
            "a[:,1]:\n",
            "[1 4 7]\n",
            "\n",
            "a[1:, -1][::-1]:\n",
            "[8 5]\n"
          ]
        }
      ]
    },
    {
      "cell_type": "code",
      "source": [
        "a = np.arange(4*3*2).reshape((4, 3, 2))\n",
        "\n",
        "print(\"a:\\n\", a, sep='')\n",
        "print('\\n', end='')\n",
        "print('a[2, 1, 0]:\\n', a[2, 1, 0], sep='')"
      ],
      "metadata": {
        "colab": {
          "base_uri": "https://localhost:8080/"
        },
        "id": "hUvO9ZtWEmyn",
        "outputId": "c84f2044-c484-4eb5-848f-d590e44f5c1b"
      },
      "execution_count": null,
      "outputs": [
        {
          "output_type": "stream",
          "name": "stdout",
          "text": [
            "a:\n",
            "[[[ 0  1]\n",
            "  [ 2  3]\n",
            "  [ 4  5]]\n",
            "\n",
            " [[ 6  7]\n",
            "  [ 8  9]\n",
            "  [10 11]]\n",
            "\n",
            " [[12 13]\n",
            "  [14 15]\n",
            "  [16 17]]\n",
            "\n",
            " [[18 19]\n",
            "  [20 21]\n",
            "  [22 23]]]\n",
            "\n",
            "a[2, 1, 0]:\n",
            "14\n"
          ]
        }
      ]
    },
    {
      "cell_type": "code",
      "source": [
        "### Quiz: What would be a[0]?\n",
        "print(a[0])\n",
        "print('\\n', end='')\n",
        "\n",
        "### Quiz: What would be a[0, 1]?\n",
        "print(a[0, 1])\n",
        "print('\\n', end='')\n",
        "\n",
        "### Quiz: Create [[0, 2, 4], [6, 8, 10]]\n",
        "print(a[:2, :, 0])"
      ],
      "metadata": {
        "colab": {
          "base_uri": "https://localhost:8080/"
        },
        "id": "Wwfw16QRGyTG",
        "outputId": "c1b75fcc-fb1d-4490-a726-f8b9fea5fba3"
      },
      "execution_count": null,
      "outputs": [
        {
          "output_type": "stream",
          "name": "stdout",
          "text": [
            "[[0 1]\n",
            " [2 3]\n",
            " [4 5]]\n",
            "\n",
            "[2 3]\n",
            "\n",
            "[[ 0  2  4]\n",
            " [ 6  8 10]]\n"
          ]
        }
      ]
    },
    {
      "cell_type": "code",
      "source": [
        "# Conditional indexing\n",
        "a = np.arange(3*2).reshape((3, 2))\n",
        "print('a:\\n', a, sep='')\n",
        "\n",
        "idx = (a%2 == 0)\n",
        "# idx: [[ True False]\n",
        "#       [ True False]\n",
        "#       [ True False]]\n",
        "\n",
        "print('\\na[idx]:\\n',a[idx], sep='')"
      ],
      "metadata": {
        "colab": {
          "base_uri": "https://localhost:8080/"
        },
        "id": "okzBau1pHj4a",
        "outputId": "14cb1920-f7d0-4229-8d39-cc8a815b39c5"
      },
      "execution_count": null,
      "outputs": [
        {
          "output_type": "stream",
          "name": "stdout",
          "text": [
            "a:\n",
            "[[0 1]\n",
            " [2 3]\n",
            " [4 5]]\n",
            "\n",
            "a[idx]:\n",
            "[0 2 4]\n"
          ]
        }
      ]
    },
    {
      "cell_type": "code",
      "source": [
        "### Quiz: How would you create [3, 4, 5] using a?\n",
        "idx = (a >= 3)\n",
        "\n",
        "print('a[idx]:\\n', a[idx], sep='')"
      ],
      "metadata": {
        "colab": {
          "base_uri": "https://localhost:8080/"
        },
        "id": "7P-ica3aIJAm",
        "outputId": "7f6e5ca6-2ad1-4bb4-af71-cd5e5ce52ffe"
      },
      "execution_count": null,
      "outputs": [
        {
          "output_type": "stream",
          "name": "stdout",
          "text": [
            "a[idx]:\n",
            "[3 4 5]\n"
          ]
        }
      ]
    },
    {
      "cell_type": "code",
      "source": [
        "# Taking specific elements\n",
        "a = np.arange(10)\n",
        "idx = [0, 2, 3]\n",
        "print('a[idx]:\\n', a[idx], sep='')\n",
        "print('\\n', end='')\n",
        "\n",
        "a = np.arange(24).reshape((6, 4))\n",
        "print('a:\\n', a, sep='')\n",
        "print('\\n', end='')\n",
        "\n",
        "print('a[:, [0, 2, 3]]:\\n', a[:, [0, 2, 3]], sep='')\n",
        "print('\\n', end='')\n",
        "\n",
        "print('a[[0, 2, 3], :]:\\n', a[[0, 2, 3], :], sep='')\n",
        "print('\\n', end='')\n",
        "\n",
        "# Tuple indexing\n",
        "idx = ((0,0,1,5), (1,2,0,3))\n",
        "print('a[idx]:\\n', a[idx], sep='')\n",
        "print('\\n', end='')\n",
        "\n",
        "# Ndarray indexing\n",
        "idx = np.array([[0, 0, 1, 5], [1, 2, 0, 3]])\n",
        "print('a[idx]:\\n', a[idx], sep='')\n"
      ],
      "metadata": {
        "colab": {
          "base_uri": "https://localhost:8080/"
        },
        "id": "Hcs2NzqFIWcV",
        "outputId": "6eeb05cc-082d-4d5b-8d32-72635838fb60"
      },
      "execution_count": null,
      "outputs": [
        {
          "output_type": "stream",
          "name": "stdout",
          "text": [
            "a[idx]:\n",
            "[0 2 3]\n",
            "\n",
            "a:\n",
            "[[ 0  1  2  3]\n",
            " [ 4  5  6  7]\n",
            " [ 8  9 10 11]\n",
            " [12 13 14 15]\n",
            " [16 17 18 19]\n",
            " [20 21 22 23]]\n",
            "\n",
            "a[:, [0, 2, 3]]:\n",
            "[[ 0  2  3]\n",
            " [ 4  6  7]\n",
            " [ 8 10 11]\n",
            " [12 14 15]\n",
            " [16 18 19]\n",
            " [20 22 23]]\n",
            "\n",
            "a[[0, 2, 3], :]:\n",
            "[[ 0  1  2  3]\n",
            " [ 8  9 10 11]\n",
            " [12 13 14 15]]\n",
            "\n",
            "a[idx]:\n",
            "[ 1  2  4 23]\n",
            "\n",
            "a[idx]:\n",
            "[[[ 0  1  2  3]\n",
            "  [ 0  1  2  3]\n",
            "  [ 4  5  6  7]\n",
            "  [20 21 22 23]]\n",
            "\n",
            " [[ 4  5  6  7]\n",
            "  [ 8  9 10 11]\n",
            "  [ 0  1  2  3]\n",
            "  [12 13 14 15]]]\n"
          ]
        }
      ]
    },
    {
      "cell_type": "code",
      "source": [
        "# Three dots indexing (Ellipsis)\n",
        "a = np.arange(2*3*2*2*4*3).reshape((2,3,2,2,4,-1))\n",
        "\n",
        "print(a[1, :, :, :, :, 2] == a[1, ..., 2])"
      ],
      "metadata": {
        "colab": {
          "base_uri": "https://localhost:8080/"
        },
        "id": "DQiHajh2zcEf",
        "outputId": "dfefc120-b6ca-4f15-ce86-4b9b96c390cd"
      },
      "execution_count": null,
      "outputs": [
        {
          "output_type": "stream",
          "name": "stdout",
          "text": [
            "[[[[ True  True  True  True]\n",
            "   [ True  True  True  True]]\n",
            "\n",
            "  [[ True  True  True  True]\n",
            "   [ True  True  True  True]]]\n",
            "\n",
            "\n",
            " [[[ True  True  True  True]\n",
            "   [ True  True  True  True]]\n",
            "\n",
            "  [[ True  True  True  True]\n",
            "   [ True  True  True  True]]]\n",
            "\n",
            "\n",
            " [[[ True  True  True  True]\n",
            "   [ True  True  True  True]]\n",
            "\n",
            "  [[ True  True  True  True]\n",
            "   [ True  True  True  True]]]]\n"
          ]
        }
      ]
    },
    {
      "cell_type": "markdown",
      "source": [
        "### Math Operations"
      ],
      "metadata": {
        "id": "KrIGw90zL-DF"
      }
    },
    {
      "cell_type": "code",
      "source": [
        "# Unary operations\n",
        "a = np.arange(6).reshape((3, 2))\n",
        "\n",
        "print('a.sum():\\n', a.sum(), sep='')\n",
        "print('\\na.sum(axis=0):\\n', a.sum(axis=0), sep='')\n",
        "print('\\na.sum(axis=1):\\n', a.sum(axis=1), sep='')\n",
        "\n",
        "print('\\na.mean():\\n', a.mean(), sep='')\n",
        "print('\\na.max():\\n', a.max(), sep='')\n",
        "print('\\na.min():\\n', a.min(), sep='')\n"
      ],
      "metadata": {
        "colab": {
          "base_uri": "https://localhost:8080/"
        },
        "id": "m-4_EXAbOAjH",
        "outputId": "02b82eee-9bc1-4fd2-9915-12fc201981b7"
      },
      "execution_count": null,
      "outputs": [
        {
          "output_type": "stream",
          "name": "stdout",
          "text": [
            "a.sum():\n",
            "15\n",
            "\n",
            "a.sum(axis=0):\n",
            "[6 9]\n",
            "\n",
            "a.sum(axis=1):\n",
            "[1 5 9]\n",
            "\n",
            "a.mean():\n",
            "2.5\n",
            "\n",
            "a.max():\n",
            "5\n",
            "\n",
            "a.min():\n",
            "0\n"
          ]
        }
      ]
    },
    {
      "cell_type": "code",
      "source": [
        "### Quiz: Given a = np.arange(24).reshape((2,3,4)),\n",
        "### what is the mean of the sum w.r.t to the last dimension?\n",
        "a = np.arange(24).reshape((2, 3, 4))\n",
        "print('a:\\n', a, sep='')\n",
        "print('\\n', end='')\n",
        "print('a.sum(axis=-1).mean():\\n', a.sum(axis=-1).mean(), sep='')\n"
      ],
      "metadata": {
        "colab": {
          "base_uri": "https://localhost:8080/"
        },
        "id": "2iQuoZ2EO_JX",
        "outputId": "18b2b589-fed6-412f-94d1-2e79a9943b65"
      },
      "execution_count": null,
      "outputs": [
        {
          "output_type": "stream",
          "name": "stdout",
          "text": [
            "a:\n",
            "[[[ 0  1  2  3]\n",
            "  [ 4  5  6  7]\n",
            "  [ 8  9 10 11]]\n",
            "\n",
            " [[12 13 14 15]\n",
            "  [16 17 18 19]\n",
            "  [20 21 22 23]]]\n",
            "\n",
            "a.sum(axis=-1).mean():\n",
            "46.0\n"
          ]
        }
      ]
    },
    {
      "cell_type": "code",
      "source": [
        "# Vector dot product\n",
        "a = np.arange(3).astype('float')\n",
        "b = np.ones(3)\n",
        "\n",
        "print('np.dot(a, b):\\n', np.dot(a, b), sep='')"
      ],
      "metadata": {
        "colab": {
          "base_uri": "https://localhost:8080/"
        },
        "id": "8bCMJy8aQRDQ",
        "outputId": "68b9c594-f70e-4de4-ed47-9cede6a47097"
      },
      "execution_count": null,
      "outputs": [
        {
          "output_type": "stream",
          "name": "stdout",
          "text": [
            "np.dot(a, b):\n",
            "3.0\n"
          ]
        }
      ]
    },
    {
      "cell_type": "code",
      "source": [
        "# Matrix dot product, matrix multiplication\n",
        "a = np.arange(6).reshape((3, 2))\n",
        "b = np.ones((2, 3))\n",
        "\n",
        "print('np.dot(a, b):\\n', np.dot(a, b), sep='')\n",
        "print('\\n', end='')\n",
        "\n",
        "print('a @ b:\\n', a @ b, sep='')"
      ],
      "metadata": {
        "colab": {
          "base_uri": "https://localhost:8080/"
        },
        "id": "GHJacUgcQ54V",
        "outputId": "65da89e3-9518-41ae-bfc4-9a069e17a47f"
      },
      "execution_count": null,
      "outputs": [
        {
          "output_type": "stream",
          "name": "stdout",
          "text": [
            "np.dot(a, b):\n",
            "[[1. 1. 1.]\n",
            " [5. 5. 5.]\n",
            " [9. 9. 9.]]\n",
            "\n",
            "a @ b:\n",
            "[[1. 1. 1.]\n",
            " [5. 5. 5.]\n",
            " [9. 9. 9.]]\n"
          ]
        }
      ]
    },
    {
      "cell_type": "code",
      "source": [
        "# Tensor dot product, tensor multiplication\n",
        "a = np.arange(24).reshape((4, 3, 2))\n",
        "b = np.ones((4, 2, 3))\n",
        "\n",
        "print('np.dot(a, b).shape:\\n', np.dot(a, b).shape, sep='')\n",
        "print('\\n', end='')\n",
        "\n",
        "print('np.dot(a, b):\\n', np.dot(a, b), sep='')\n",
        "print('\\n', end='')\n",
        "\n",
        "print('(a @ b).shape:\\n', (a @ b).shape, sep='')  # Use @ instead of np.dot for tensor multiplication. Then you can interpret the first dimension of the tensors as batch size.\n",
        "print('\\n', end='')\n",
        "\n",
        "print('a @ b:\\n', a @ b, sep='')"
      ],
      "metadata": {
        "colab": {
          "base_uri": "https://localhost:8080/"
        },
        "id": "1PQ-z8mORIwA",
        "outputId": "26bc20bb-431c-4c5d-ba6c-436b44b94c15"
      },
      "execution_count": null,
      "outputs": [
        {
          "output_type": "stream",
          "name": "stdout",
          "text": [
            "np.dot(a, b).shape:\n",
            "(4, 3, 4, 3)\n",
            "\n",
            "np.dot(a, b):\n",
            "[[[[ 1.  1.  1.]\n",
            "   [ 1.  1.  1.]\n",
            "   [ 1.  1.  1.]\n",
            "   [ 1.  1.  1.]]\n",
            "\n",
            "  [[ 5.  5.  5.]\n",
            "   [ 5.  5.  5.]\n",
            "   [ 5.  5.  5.]\n",
            "   [ 5.  5.  5.]]\n",
            "\n",
            "  [[ 9.  9.  9.]\n",
            "   [ 9.  9.  9.]\n",
            "   [ 9.  9.  9.]\n",
            "   [ 9.  9.  9.]]]\n",
            "\n",
            "\n",
            " [[[13. 13. 13.]\n",
            "   [13. 13. 13.]\n",
            "   [13. 13. 13.]\n",
            "   [13. 13. 13.]]\n",
            "\n",
            "  [[17. 17. 17.]\n",
            "   [17. 17. 17.]\n",
            "   [17. 17. 17.]\n",
            "   [17. 17. 17.]]\n",
            "\n",
            "  [[21. 21. 21.]\n",
            "   [21. 21. 21.]\n",
            "   [21. 21. 21.]\n",
            "   [21. 21. 21.]]]\n",
            "\n",
            "\n",
            " [[[25. 25. 25.]\n",
            "   [25. 25. 25.]\n",
            "   [25. 25. 25.]\n",
            "   [25. 25. 25.]]\n",
            "\n",
            "  [[29. 29. 29.]\n",
            "   [29. 29. 29.]\n",
            "   [29. 29. 29.]\n",
            "   [29. 29. 29.]]\n",
            "\n",
            "  [[33. 33. 33.]\n",
            "   [33. 33. 33.]\n",
            "   [33. 33. 33.]\n",
            "   [33. 33. 33.]]]\n",
            "\n",
            "\n",
            " [[[37. 37. 37.]\n",
            "   [37. 37. 37.]\n",
            "   [37. 37. 37.]\n",
            "   [37. 37. 37.]]\n",
            "\n",
            "  [[41. 41. 41.]\n",
            "   [41. 41. 41.]\n",
            "   [41. 41. 41.]\n",
            "   [41. 41. 41.]]\n",
            "\n",
            "  [[45. 45. 45.]\n",
            "   [45. 45. 45.]\n",
            "   [45. 45. 45.]\n",
            "   [45. 45. 45.]]]]\n",
            "\n",
            "(a @ b).shape:\n",
            "(4, 3, 3)\n",
            "\n",
            "a @ b:\n",
            "[[[ 1.  1.  1.]\n",
            "  [ 5.  5.  5.]\n",
            "  [ 9.  9.  9.]]\n",
            "\n",
            " [[13. 13. 13.]\n",
            "  [17. 17. 17.]\n",
            "  [21. 21. 21.]]\n",
            "\n",
            " [[25. 25. 25.]\n",
            "  [29. 29. 29.]\n",
            "  [33. 33. 33.]]\n",
            "\n",
            " [[37. 37. 37.]\n",
            "  [41. 41. 41.]\n",
            "  [45. 45. 45.]]]\n"
          ]
        }
      ]
    },
    {
      "cell_type": "code",
      "source": [
        "### Quiz: what would happen if a.shape==(4,3,2) and b.shape==(2,3)?\n",
        "### Ans: The results are same.\n",
        "a = np.arange(24).reshape((4, 3, 2))\n",
        "b = np.ones((2, 3))\n",
        "\n",
        "print('np.dot(a, b).shape:\\n', np.dot(a, b).shape, sep='')\n",
        "print('\\n', end='')\n",
        "\n",
        "print('np.dot(a, b):\\n', np.dot(a, b), sep='')\n",
        "print('\\n', end='')\n",
        "\n",
        "print('(a @ b).shape:\\n', (a @ b).shape, sep='')\n",
        "print('\\n', end='')\n",
        "\n",
        "print('a @ b:\\n', a @ b, sep='')"
      ],
      "metadata": {
        "colab": {
          "base_uri": "https://localhost:8080/"
        },
        "id": "awI2dsxSRtfW",
        "outputId": "ac84b94d-274b-4e7a-91ab-6f18e9374b6c"
      },
      "execution_count": null,
      "outputs": [
        {
          "output_type": "stream",
          "name": "stdout",
          "text": [
            "np.dot(a, b).shape:\n",
            "(4, 3, 3)\n",
            "\n",
            "np.dot(a, b):\n",
            "[[[ 1.  1.  1.]\n",
            "  [ 5.  5.  5.]\n",
            "  [ 9.  9.  9.]]\n",
            "\n",
            " [[13. 13. 13.]\n",
            "  [17. 17. 17.]\n",
            "  [21. 21. 21.]]\n",
            "\n",
            " [[25. 25. 25.]\n",
            "  [29. 29. 29.]\n",
            "  [33. 33. 33.]]\n",
            "\n",
            " [[37. 37. 37.]\n",
            "  [41. 41. 41.]\n",
            "  [45. 45. 45.]]]\n",
            "\n",
            "(a @ b).shape:\n",
            "(4, 3, 3)\n",
            "\n",
            "a @ b:\n",
            "[[[ 1.  1.  1.]\n",
            "  [ 5.  5.  5.]\n",
            "  [ 9.  9.  9.]]\n",
            "\n",
            " [[13. 13. 13.]\n",
            "  [17. 17. 17.]\n",
            "  [21. 21. 21.]]\n",
            "\n",
            " [[25. 25. 25.]\n",
            "  [29. 29. 29.]\n",
            "  [33. 33. 33.]]\n",
            "\n",
            " [[37. 37. 37.]\n",
            "  [41. 41. 41.]\n",
            "  [45. 45. 45.]]]\n"
          ]
        }
      ]
    },
    {
      "cell_type": "markdown",
      "source": [
        "### Shape Manipulation"
      ],
      "metadata": {
        "id": "TSToJv7ySq1j"
      }
    },
    {
      "cell_type": "code",
      "source": [
        "# Reshapes\n",
        "a = np.arange(24).reshape((2, 3, 4))\n",
        "\n",
        "b = a.reshape((6, -1))\n",
        "\n",
        "print('b:\\n', b, sep='')\n",
        "print('\\n', end='')\n",
        "\n",
        "c = a.reshape((6, 4, -1))\n",
        "print('c:\\n', c, sep='')\n"
      ],
      "metadata": {
        "colab": {
          "base_uri": "https://localhost:8080/"
        },
        "id": "myk_g_DSSvMh",
        "outputId": "59317f33-c9cb-4282-effb-c1d1ec498b00"
      },
      "execution_count": null,
      "outputs": [
        {
          "output_type": "stream",
          "name": "stdout",
          "text": [
            "b:\n",
            "[[ 0  1  2  3]\n",
            " [ 4  5  6  7]\n",
            " [ 8  9 10 11]\n",
            " [12 13 14 15]\n",
            " [16 17 18 19]\n",
            " [20 21 22 23]]\n",
            "\n",
            "c:\n",
            "[[[ 0]\n",
            "  [ 1]\n",
            "  [ 2]\n",
            "  [ 3]]\n",
            "\n",
            " [[ 4]\n",
            "  [ 5]\n",
            "  [ 6]\n",
            "  [ 7]]\n",
            "\n",
            " [[ 8]\n",
            "  [ 9]\n",
            "  [10]\n",
            "  [11]]\n",
            "\n",
            " [[12]\n",
            "  [13]\n",
            "  [14]\n",
            "  [15]]\n",
            "\n",
            " [[16]\n",
            "  [17]\n",
            "  [18]\n",
            "  [19]]\n",
            "\n",
            " [[20]\n",
            "  [21]\n",
            "  [22]\n",
            "  [23]]]\n"
          ]
        }
      ]
    },
    {
      "cell_type": "code",
      "source": [
        "# Adding an extra dimension\n",
        "a = np.arange(3)\n",
        "\n",
        "print('a:\\n', a, sep='')\n",
        "print('\\n', end='')\n",
        "\n",
        "print('a[:, None]:\\n', a[:, None], sep='')"
      ],
      "metadata": {
        "colab": {
          "base_uri": "https://localhost:8080/"
        },
        "id": "ZE4qMjmRTG4g",
        "outputId": "50427e4d-1f61-432c-b645-01ada37e2cdf"
      },
      "execution_count": null,
      "outputs": [
        {
          "output_type": "stream",
          "name": "stdout",
          "text": [
            "a:\n",
            "[0 1 2]\n",
            "\n",
            "a[:, None]:\n",
            "[[0]\n",
            " [1]\n",
            " [2]]\n"
          ]
        }
      ]
    },
    {
      "cell_type": "code",
      "source": [
        "### Quiz: How to make a = np.ones((3,4)) into shape (3, 1, 1, 4) using reshape and None?\n",
        "a = np.ones((3, 4))\n",
        "print('a.reshape((3, 1, 1, 4)).shape:\\n', a.reshape((3, 1, 1, 4)).shape, sep='')\n",
        "print('\\na[:, None, None, :].shape\\n', a[:, None, None, :].shape, sep='')"
      ],
      "metadata": {
        "colab": {
          "base_uri": "https://localhost:8080/"
        },
        "id": "jU4gCjGtTklZ",
        "outputId": "a7d65e19-f9ba-4355-8679-af43c9cb5355"
      },
      "execution_count": null,
      "outputs": [
        {
          "output_type": "stream",
          "name": "stdout",
          "text": [
            "a.reshape((3, 1, 1, 4)).shape:\n",
            "(3, 1, 1, 4)\n",
            "\n",
            "a[:, None, None, :].shape\n",
            "(3, 1, 1, 4)\n"
          ]
        }
      ]
    },
    {
      "cell_type": "code",
      "source": [
        "# Stack, concatenation\n",
        "a = np.ones((3, 2))\n",
        "b = np.zeros((3, 2))\n",
        "\n",
        "print('np.vstack([a ,b]):\\n', np.vstack([a ,b]), sep='')\n",
        "print('\\n', sep='')\n",
        "\n",
        "print('np.hstack([a ,b]):\\n', np.hstack([a ,b]), sep='')\n",
        "print('\\n', sep='')\n",
        "\n",
        "print('np.hstack([a ,b, a]):\\n', np.hstack([a ,b, a]), sep='')\n",
        "print('\\n', sep='')\n",
        "\n",
        "# Recommend using np.concatenate on tensors instead of np.vstack and np.hstack,\n",
        "print('np.concatenate([a, b], axis=0):\\n', np.concatenate([a, b], axis=0), sep='')\n",
        "print('\\n', sep='')\n",
        "\n",
        "print('np.concatenate([a, b], axis=1):\\n', np.concatenate([a, b], axis=1), sep='')"
      ],
      "metadata": {
        "colab": {
          "base_uri": "https://localhost:8080/"
        },
        "id": "rX5fNhP8UGTm",
        "outputId": "e758e770-7b94-4f95-c385-b15e5383b4ac"
      },
      "execution_count": null,
      "outputs": [
        {
          "output_type": "stream",
          "name": "stdout",
          "text": [
            "np.vstack([a ,b]):\n",
            "[[1. 1.]\n",
            " [1. 1.]\n",
            " [1. 1.]\n",
            " [0. 0.]\n",
            " [0. 0.]\n",
            " [0. 0.]]\n",
            "\n",
            "\n",
            "np.hstack([a ,b]):\n",
            "[[1. 1. 0. 0.]\n",
            " [1. 1. 0. 0.]\n",
            " [1. 1. 0. 0.]]\n",
            "\n",
            "\n",
            "np.hstack([a ,b, a]):\n",
            "[[1. 1. 0. 0. 1. 1.]\n",
            " [1. 1. 0. 0. 1. 1.]\n",
            " [1. 1. 0. 0. 1. 1.]]\n",
            "\n",
            "\n",
            "np.concatenate([a, b], axis=0):\n",
            "[[1. 1.]\n",
            " [1. 1.]\n",
            " [1. 1.]\n",
            " [0. 0.]\n",
            " [0. 0.]\n",
            " [0. 0.]]\n",
            "\n",
            "\n",
            "np.concatenate([a, b], axis=1):\n",
            "[[1. 1. 0. 0.]\n",
            " [1. 1. 0. 0.]\n",
            " [1. 1. 0. 0.]]\n"
          ]
        }
      ]
    },
    {
      "cell_type": "code",
      "source": [
        "### Quiz: Would concatenating two tensors whose shapes are (4, 3, 2) and (5, 4, 2) on axis=2 work?\n",
        "### Ans: No\n",
        "\n",
        "a = np.ones((4, 3, 2))\n",
        "b = np.zeros((5, 4, 2))\n",
        "\n",
        "# c = np.concatenate([a, b], axis=2) -> error\n",
        "# print('c:\\n', c.shape, sep='')"
      ],
      "metadata": {
        "id": "5hOpuaEgY75m"
      },
      "execution_count": null,
      "outputs": []
    },
    {
      "cell_type": "code",
      "source": [
        "# Matrix transpose\n",
        "a = np.arange(6).reshape((3, 2))\n",
        "\n",
        "print('a.T.shape:\\n', a.T.shape, sep='')"
      ],
      "metadata": {
        "colab": {
          "base_uri": "https://localhost:8080/"
        },
        "id": "4JoYKwqqZlY6",
        "outputId": "f35cd9a8-b02a-4a42-c123-2c66a6cac68d"
      },
      "execution_count": null,
      "outputs": [
        {
          "output_type": "stream",
          "name": "stdout",
          "text": [
            "a.T.shape:\n",
            "(2, 3)\n"
          ]
        }
      ]
    },
    {
      "cell_type": "code",
      "source": [
        "# Tensor transpose\n",
        "a = np.arange(24).reshape((4, 3, 2))\n",
        "\n",
        "b = np.transpose(a, [0, 2, 1])\n",
        "print('b.shape:\\n', b.shape, sep='')\n",
        "print('\\n', end='')\n",
        "\n",
        "c = np.transpose(a, [1, 0, 2])\n",
        "print('c.shape:\\n', c.shape, sep='')"
      ],
      "metadata": {
        "colab": {
          "base_uri": "https://localhost:8080/"
        },
        "id": "W7TDOwZhZtrJ",
        "outputId": "301c9a40-befd-49ab-db87-34a7a3dc717b"
      },
      "execution_count": null,
      "outputs": [
        {
          "output_type": "stream",
          "name": "stdout",
          "text": [
            "b.shape:\n",
            "(4, 2, 3)\n",
            "\n",
            "c.shape:\n",
            "(3, 4, 2)\n"
          ]
        }
      ]
    },
    {
      "cell_type": "markdown",
      "source": [
        "### Broadcasting"
      ],
      "metadata": {
        "id": "I7M9fw_4aHX_"
      }
    },
    {
      "cell_type": "code",
      "source": [
        "a = np.arange(6).reshape((3,2))\n",
        "b = np.arange(2).reshape(2) + 1\n",
        "\n",
        "print('a:\\n', a, sep='')\n",
        "print('\\n', end='')\n",
        "\n",
        "print('b:\\n', b, sep='')\n",
        "print('\\n', end='')\n",
        "\n",
        "print('a+b:\\n', a+b, sep='')"
      ],
      "metadata": {
        "colab": {
          "base_uri": "https://localhost:8080/"
        },
        "id": "mUEiNz7UaJxT",
        "outputId": "125192f6-20ed-4693-cbce-1c190e88d376"
      },
      "execution_count": null,
      "outputs": [
        {
          "output_type": "stream",
          "name": "stdout",
          "text": [
            "a:\n",
            "[[0 1]\n",
            " [2 3]\n",
            " [4 5]]\n",
            "\n",
            "b:\n",
            "[1 2]\n",
            "\n",
            "a+b:\n",
            "[[1 3]\n",
            " [3 5]\n",
            " [5 7]]\n"
          ]
        }
      ]
    },
    {
      "cell_type": "code",
      "source": [
        "### Quiz: What would happen if b were np.arange(2).reshape((2, 1))? How about np.arange(2).reshape((1, 2))?\n",
        "a = np.arange(6).reshape((3,2))\n",
        "b = np.arange(2).reshape((2, 1)) + 1\n",
        "\n",
        "print('a:\\n', a, sep='')\n",
        "print('\\n', end='')\n",
        "\n",
        "print('b:\\n', b, sep='')\n",
        "print('\\n', end='')\n",
        "\n",
        "# print(a+b) -> error\n",
        "\n",
        "a = np.arange(6).reshape((3,2))\n",
        "b = np.arange(2).reshape((1, 2)) + 1\n",
        "\n",
        "print('a:\\n', a, sep='')\n",
        "print('\\n', end='')\n",
        "\n",
        "print('b:\\n', b, sep='')\n",
        "print('\\n', end='')\n",
        "\n",
        "print('a+b:\\n', a+b, sep='')"
      ],
      "metadata": {
        "colab": {
          "base_uri": "https://localhost:8080/"
        },
        "id": "rFeGTLdAa01r",
        "outputId": "d3361130-e56a-4949-bc8f-dd4f2e5581c2"
      },
      "execution_count": null,
      "outputs": [
        {
          "output_type": "stream",
          "name": "stdout",
          "text": [
            "a:\n",
            "[[0 1]\n",
            " [2 3]\n",
            " [4 5]]\n",
            "\n",
            "b:\n",
            "[[1]\n",
            " [2]]\n",
            "\n",
            "a:\n",
            "[[0 1]\n",
            " [2 3]\n",
            " [4 5]]\n",
            "\n",
            "b:\n",
            "[[1 2]]\n",
            "\n",
            "a+b:\n",
            "[[1 3]\n",
            " [3 5]\n",
            " [5 7]]\n"
          ]
        }
      ]
    },
    {
      "cell_type": "code",
      "source": [
        "a = np.arange(12).reshape((2,3,2))\n",
        "b = np.arange(6).reshape((3,2))\n",
        "\n",
        "print('a:\\n', a, sep='')\n",
        "print('\\n', end='')\n",
        "\n",
        "print('b:\\n', b, sep='')\n",
        "print('\\n', end='')\n",
        "\n",
        "print('a+b:\\n', a+b, sep='')"
      ],
      "metadata": {
        "colab": {
          "base_uri": "https://localhost:8080/"
        },
        "id": "b0FQjKNJbLpJ",
        "outputId": "ff24df72-cc6d-4823-a4d6-0ec21a83ecba"
      },
      "execution_count": null,
      "outputs": [
        {
          "output_type": "stream",
          "name": "stdout",
          "text": [
            "a:\n",
            "[[[ 0  1]\n",
            "  [ 2  3]\n",
            "  [ 4  5]]\n",
            "\n",
            " [[ 6  7]\n",
            "  [ 8  9]\n",
            "  [10 11]]]\n",
            "\n",
            "b:\n",
            "[[0 1]\n",
            " [2 3]\n",
            " [4 5]]\n",
            "\n",
            "a+b:\n",
            "[[[ 0  2]\n",
            "  [ 4  6]\n",
            "  [ 8 10]]\n",
            "\n",
            " [[ 6  8]\n",
            "  [10 12]\n",
            "  [14 16]]]\n"
          ]
        }
      ]
    },
    {
      "cell_type": "code",
      "source": [
        "### Quiz: How can we use None to do a+b?\n",
        "a = np.arange(12).reshape((2,3,2))\n",
        "b = np.arange(6).reshape((3,2))[None, : ,:]\n",
        "\n",
        "print('a:\\n', a, sep='')\n",
        "print('\\n', end='')\n",
        "\n",
        "print('b:\\n', b, sep='')\n",
        "print('\\n', end='')\n",
        "\n",
        "print('a+b:\\n', a+b, sep='')"
      ],
      "metadata": {
        "colab": {
          "base_uri": "https://localhost:8080/"
        },
        "id": "8j0rZQK_bhwh",
        "outputId": "79984b88-939a-452e-bb00-6c9c74145528"
      },
      "execution_count": null,
      "outputs": [
        {
          "output_type": "stream",
          "name": "stdout",
          "text": [
            "a:\n",
            "[[[ 0  1]\n",
            "  [ 2  3]\n",
            "  [ 4  5]]\n",
            "\n",
            " [[ 6  7]\n",
            "  [ 8  9]\n",
            "  [10 11]]]\n",
            "\n",
            "b:\n",
            "[[[0 1]\n",
            "  [2 3]\n",
            "  [4 5]]]\n",
            "\n",
            "a+b:\n",
            "[[[ 0  2]\n",
            "  [ 4  6]\n",
            "  [ 8 10]]\n",
            "\n",
            " [[ 6  8]\n",
            "  [10 12]\n",
            "  [14 16]]]\n"
          ]
        }
      ]
    },
    {
      "cell_type": "markdown",
      "source": [
        "### Final Quiz"
      ],
      "metadata": {
        "id": "GPqQ3Ub6glyQ"
      }
    },
    {
      "cell_type": "code",
      "source": [
        "def sigmoid(x):\n",
        "    return 1./(1. + np.exp(-x))\n",
        "\n",
        "# Define a function that, given M of shape (m,n) and W of shape (4n, n), executes the following:\n",
        "# - Take the first half rows of M\n",
        "# - Take the second half rows of M\n",
        "# - Take the odd-numbered rows of M\n",
        "# - Take the even-numbered rows of M\n",
        "# - Append them horizontally in the listed order so that you obtain a matrix X of shape (?, 4n)\n",
        "# - Linearly transform X with W so that you obtain a matrix Y of shape (?, ?)\n",
        "# - Put Y through the sigmoid function\n",
        "# - Obtain the sum of the row-wise mean\n",
        "\n",
        "def foo(M, W):\n",
        "    r = int(M.shape[0]/2)\n",
        "    fh = M[:r]\n",
        "    sh = M[r:]\n",
        "    on = M[1::2]\n",
        "    en = M[0::2]\n",
        "    X = np.concatenate([fh, sh, on, en], axis=1)\n",
        "    Y = X @ W\n",
        "    n = sigmoid(Y)\n",
        "    result = np.mean(n, axis=0).sum()\n",
        "    return result\n",
        "\n",
        "M = (np.arange(20).reshape((10,2)).astype('float') - 10.) / 10\n",
        "W = np.arange(16).reshape(8,2).astype('float') / 10.\n",
        "\n",
        "print('answer:\\n', foo(M, W), sep='')"
      ],
      "metadata": {
        "colab": {
          "base_uri": "https://localhost:8080/"
        },
        "id": "PTKUDcxegn4x",
        "outputId": "52fa86ff-8199-4483-ebc1-1746c88b22ed"
      },
      "execution_count": null,
      "outputs": [
        {
          "output_type": "stream",
          "name": "stdout",
          "text": [
            "answer:\n",
            "1.0114933115231504\n"
          ]
        }
      ]
    }
  ]
}